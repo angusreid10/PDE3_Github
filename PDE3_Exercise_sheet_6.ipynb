{
 "cells": [
  {
   "cell_type": "markdown",
   "id": "c5344db3",
   "metadata": {},
   "source": [
    "__Partial Differential Equations 3: Exercise sheet 6__\n",
    "\n",
    "The practice questions are similar to the exercises in the textbook and in Schaum's outlines Partial Differential Equations. If you are having difficulties with these questions practice using the remaining questions from these exercise. You will get the best from this seminar by working though these examples __before__ the tutorial.\n",
    "\n",
    "Consider the one-dimensional heat conduction equation\n",
    "\n",
    "\\begin{align}\n",
    "\\frac{\\partial u}{\\partial t} &= \\kappa \\frac{\\partial^2 u}{\\partial x^2} & (1)\n",
    "\\end{align}\n",
    "\n",
    "on the interval $x\\in[0, \\infty)$ with the initial and boundary conditions\n",
    "\n",
    "\\begin{align}\n",
    "u(x, 0) &= x\\exp(-\\alpha x), \\quad \\forall x\\in[0, \\infty) & (2) \\\\\n",
    "u(0, t) &= -2\\kappa\\alpha t \\exp(\\kappa \\alpha^2 t) + H(t), \\quad \\forall t & (3) \\\\\n",
    "\\lim_{x\\to\\infty}u(x,t) &= 0, \\quad \\forall t & (4)\n",
    "\\end{align}\n",
    "\n",
    "where $\\kappa$ is the thermal diffusivity, $\\alpha$ is a positive parameter and $H(t)$ is the Heaviside unit step function.\n",
    "\n",
    "a) Apply the Laplace transform with respect to $t$ to the PDE (1) and find the general solution for $U(x,s)$ in the Laplace domain.\n",
    "\\\n",
    "\\\n",
    "b) Given that the general solution to the PDE (1) in the Laplace domain is\n",
    "\n",
    "\\begin{align}\n",
    "U(x,s) &= A(s) e^{x\\sqrt{\\frac{s}{\\kappa}}} + B(s) e^{-x\\sqrt{\\frac{s}{\\kappa}}} + \\frac{1}{s - \\kappa\\alpha^2} x \\exp(-\\alpha x) + \\frac{-2\\alpha\\kappa}{\\left(s - \\kappa\\alpha^2\\right)^2} \\exp(-\\alpha x)\n",
    "\\end{align}\n",
    "\n",
    "use the boundary conditions (2)-(4) to find $A(s)$ and $B(s)$. Then use the inverse Laplace Transform on the resulting solution to find the solution of the heat conduction equation (1)-(4) in the time domain.\n",
    "\\\n",
    "\\\n",
    "c) Plot the solution\n",
    "\n",
    "Remark: Since you can't set the $x$ or $t$ limits to infinity, you should experiment and set them to values which are large enough."
   ]
  },
  {
   "cell_type": "markdown",
   "id": "bdef5960",
   "metadata": {},
   "source": [
    "__Properties of the unilateral Laplace transform__\n",
    "\n",
    "|Property | $f(t), t\\ge0$ | $F(s)$ |\n",
    "| :-: | :-: | :-: |\n",
    "|Definition | $f(t)$ | $\\int_0^\\infty\\exp(-st)f(t)dt$ |\n",
    "|Inversion | $\\frac{1}{j2\\pi}\\int_{c-j\\infty}^{c+j\\infty} \\exp(st)F(s)ds$ | $F(s)$ |\n",
    "|Linearity | $\\alpha f(t) + \\beta g(t)$ | $\\alpha F(s) + \\beta G(s)$ |\n",
    "|Scaling | $f(\\alpha t)$ | $\\frac{1}{\\alpha}F\\left(\\frac{s}{\\alpha}\\right)$ |\n",
    "|Frequency shifting | $\\exp(\\alpha t)f(t)$ | $F(s-\\alpha)$ |\n",
    "|Time shifting | $f(t-\\alpha) H(t-\\alpha)$ | $\\exp(-\\alpha s)F(s)$ |\n",
    "|First derivative | $f'(t)$ | $sF(s) - f(0)$ |\n",
    "|nth derivative | $f^{(n)}(t)$ | $s^nF(s)-s^{n-1}f(0)-s^{n-2}f'(0) \\dots -s f^{(n-2)}(0) - f^{(n-1)}(0)$ |\n",
    "|Transform derivative | $t^n f(t)$ | $(-1)^n \\frac{d^n F(s)}{ds^n}$ |      \n",
    "|Integration | $\\int_0^t f(\\tau)d\\tau$ | $\\frac{1}{s}F(s)$ |\n",
    "\n",
    "__Function transforms__\n",
    "\n",
    "|Name | $f(t), t\\ge0$ | $F(s)$ | Convergence region |\n",
    "| :-: | :-: | :-: | :-: |\n",
    "|Unit impulse | $\\delta(t)$ | $1$ | all $s$ |\n",
    "|Ideal delay | $\\delta(t-\\alpha)$ | $\\exp(-\\alpha s)$ | $\\Re(s)\\ge\\alpha$ |\n",
    "|Unit step | $H(t)$ | $\\frac{1}{s}$ | $\\Re(s)>0$ |\n",
    "|Ramp  | $t$ | $\\frac{1}{s^2}$ | $\\Re(s)>0$ |\n",
    "|nth power  | $t^n, n=1,2,\\dots$ | $\\frac{n!}{s^{n+1}}$ | $\\Re(s)>0$ |\n",
    "|Sine | $\\sin(\\alpha t)$ | $\\frac{\\alpha}{s^2 + \\alpha^2}$ | $\\Re(s)>0$ |\n",
    "|Cosine | $\\cos(\\alpha t)$ | $\\frac{s}{s^2 + \\alpha^2}$ | $\\Re(s)>0$ |\n",
    "|Hyperbolic sine | $\\sinh(\\alpha t)$ | $\\frac{\\alpha}{s^2 - \\alpha^2}$ | $\\Re(s)>|\\alpha|$ |\n",
    "|Hyperbolic cosine | $\\cosh(\\alpha t)$ | $\\frac{s}{s^2 - \\alpha^2}$ | $\\Re(s)>|\\alpha|$ |\n",
    "|Exponential decay | $\\exp(-\\alpha t)$ | $\\frac{1}{s + \\alpha}$ | $\\Re(s)>-\\alpha$ |\n",
    "|First moment of exponential decay | $t\\exp(-\\alpha t)$ | $\\frac{1}{(s + \\alpha)^2}$ | $\\Re(s)>-\\alpha $ |\n",
    "|Ramp hyperbolic sine | $t\\sinh(\\alpha t)$ | $\\frac{2\\alpha s}{(s^2 - \\alpha^2)^2}$ | $\\Re(s)>|\\alpha|$ |\n",
    "|Complementary error function  | $\\text{erfc}\\left(\\frac{k}{2\\sqrt{t}}\\right)$ | $\\frac{1}{s}\\exp\\left(-k\\sqrt{s}\\right)$ | $\\Re(s)\\ge0$ |"
   ]
  }
 ],
 "metadata": {
  "kernelspec": {
   "display_name": "Python 3 (ipykernel)",
   "language": "python",
   "name": "python3"
  },
  "language_info": {
   "codemirror_mode": {
    "name": "ipython",
    "version": 3
   },
   "file_extension": ".py",
   "mimetype": "text/x-python",
   "name": "python",
   "nbconvert_exporter": "python",
   "pygments_lexer": "ipython3",
   "version": "3.9.13"
  }
 },
 "nbformat": 4,
 "nbformat_minor": 5
}
