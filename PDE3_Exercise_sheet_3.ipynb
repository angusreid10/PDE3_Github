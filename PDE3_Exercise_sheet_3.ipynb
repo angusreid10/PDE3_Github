{
 "cells": [
  {
   "cell_type": "markdown",
   "id": "77e914bb",
   "metadata": {},
   "source": [
    "__Partial Differential Equations 3: Exercise sheet 3__\n",
    "\n",
    "The practice questions are similar to the exercises in the textbook and in Schaum's outlines Partial Differential Equations. If you are having difficulties with these questions practice using the remaining questions from these exercise. You will get the best from this seminar by working though these examples __before__ the tutorial.\n",
    "\\\n",
    "\\\n",
    "\\\n",
    "__Q1__ (From exercise 9.5.2 of Advanced Modern Engineering Mathematics)\n",
    "\n",
    "Heat is flowing steadily in a metal plate whose shape is an infinite rectangle in the $(x,y)$ plane.\n",
    "It occupies the region $-a\\le x \\le a$ and $y\\ge0$ with a positive constant $a$.\n",
    "The non-dimensional temperature at the point $(x,y)$ is denoted by $u(x,y)$.\n",
    "The sides $x=\\pm a$ are insulated, the non-dimensional temperature approaches zero for $y\\to\\infty$, while the side $y=0$ is maintained at a fixed temperature $-T$ for negative $x$ and $T$ for positive $x$. \n",
    "It is known that $u(x,y)$ satisfies the Laplace equation\n",
    "\n",
    "$$\n",
    "0 = \\nabla^2 u = \\frac{\\partial^2 u(x,y)}{\\partial x^2} + \\frac{\\partial^2 u(x,y)}{\\partial y^2} \n",
    "$$\n",
    "\n",
    "in the region $-a\\le x \\le a$ and $y\\ge0$.\n",
    "\n",
    "a) Sketch the domain with the boundary conditions and write the boundary conditions in equation form.\\\n",
    "\\\n",
    "b) Use the method of separated solutions to obtain the solution $u(x,y)$ in the form\n",
    "\n",
    "$$\n",
    "u(x,y) = \\frac{4T}{\\pi} \\sum_{n=0}^\\infty \\frac{1}{2n+1} \\exp\\left[-\\left(n+\\frac{1}{2}\\right)\\frac{\\pi y}{a}\\right] \\sin\\left[\\left(n+\\frac{1}{2}\\right)\\frac{\\pi x}{a}\\right]\n",
    "$$\n",
    "\\\n",
    "c) Modify the Python code from Exercise sheet 1 to plot the solution.\n",
    "\n",
    "Remark: Since you can't set the $y$ limit to infinity, you should experiment and set it to a value which is large enough."
   ]
  },
  {
   "cell_type": "code",
   "execution_count": null,
   "id": "a2b8303e",
   "metadata": {},
   "outputs": [],
   "source": []
  }
 ],
 "metadata": {
  "kernelspec": {
   "display_name": "Python 3 (ipykernel)",
   "language": "python",
   "name": "python3"
  },
  "language_info": {
   "codemirror_mode": {
    "name": "ipython",
    "version": 3
   },
   "file_extension": ".py",
   "mimetype": "text/x-python",
   "name": "python",
   "nbconvert_exporter": "python",
   "pygments_lexer": "ipython3",
   "version": "3.9.13"
  }
 },
 "nbformat": 4,
 "nbformat_minor": 5
}
