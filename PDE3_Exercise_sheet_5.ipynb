{
 "cells": [
  {
   "cell_type": "markdown",
   "id": "962784a8",
   "metadata": {},
   "source": [
    "### Partial Differential Equations 3: Exercise sheet 5\n",
    "\n",
    "These practice questions are similar to the exercises in the textbook and in Schaum's outlines Partial Differential Equations. If you are having difficulties with these questions practice using the remaining questions from these exercise. You will get the best from this tutorial by working though these examples __before__ the tutorial.\n",
    "\\\n",
    "\\\n",
    "__Q1__\n",
    "(From exercise 9.4.3 of Advanced Modern Engineering Mathematics)\n",
    "\n",
    "a) Use the method of separated solutions to solve the 1-d heat conduction equation\n",
    "\n",
    "\\begin{align}\n",
    "\\frac{\\partial u(x,t)}{\\partial t} &= \\kappa\\frac{\\partial^2 u(x,t)}{\\partial x^2} & (1)\n",
    "\\end{align}\n",
    "\n",
    "in the region $0\\le x\\le1$ and $t\\ge0$ with the following boundary conditions\n",
    "\n",
    "\\begin{align}\n",
    "\\frac{\\partial u(0,t)}{\\partial x} &= 0, & t\\ge0 && (2)\\\\\n",
    "u(1, t) &= 0, & t\\ge0 && (3) \\\\\n",
    "u(x, 0) &= a\\cos{(\\pi x)}\\cos{(\\pi x/2)}, & 0 \\le x \\le 1 && (4)\n",
    "\\end{align}\n",
    "\n",
    "You might want to use the identity\n",
    "\n",
    "\\begin{align}\n",
    "\\cos{\\theta_1}\\cos{\\theta_2} = (\\cos{(\\theta_1 -\\theta_2)} + \\cos{(\\theta_1 + \\theta_2)})/2 && (5)\n",
    "\\end{align}\n",
    "\\\n",
    "\\\n",
    "\\\n",
    "b) Use Python to plot the solution."
   ]
  },
  {
   "cell_type": "code",
   "execution_count": null,
   "id": "179a8aaa",
   "metadata": {},
   "outputs": [],
   "source": []
  }
 ],
 "metadata": {
  "kernelspec": {
   "display_name": "Python 3 (ipykernel)",
   "language": "python",
   "name": "python3"
  },
  "language_info": {
   "codemirror_mode": {
    "name": "ipython",
    "version": 3
   },
   "file_extension": ".py",
   "mimetype": "text/x-python",
   "name": "python",
   "nbconvert_exporter": "python",
   "pygments_lexer": "ipython3",
   "version": "3.9.13"
  }
 },
 "nbformat": 4,
 "nbformat_minor": 5
}
