{
 "cells": [
  {
   "cell_type": "markdown",
   "id": "32cd9c41",
   "metadata": {},
   "source": [
    "### Partial Differential Equations 3: Exercise sheet 8\n",
    "\n",
    "The practice questions are similar to the exercises in the textbook and in Schaum's outlines Partial Differential Equations. If you are having difficulties with these questions practice using the remaining questions from these exercise. You will get the best from this tutorial by working though these examples __before__ the tutorial.\n",
    "\\\n",
    "\\\n",
    "\\\n",
    "__Q1__\n",
    "\n",
    "a) Use the d'Alembert method to solve the wave equation, \n",
    "\n",
    "\\begin{align}\n",
    "\\frac{1}{c^2}\\frac{\\partial^2 u(x,t)}{\\partial t^2} = \\frac{\\partial^2 u(x,t)}{\\partial x^2} && (1)\n",
    "\\end{align}\n",
    "\n",
    "subject to the initial conditions\n",
    "\n",
    "\\begin{align}\n",
    "u(x,0) &= \\cos(x), \\quad \\forall x & (2) \\\\\n",
    "\\frac{\\partial u(x,0)}{\\partial t} &= x \\exp(-x^2), \\quad \\forall x. & (3)\n",
    "\\end{align}\n",
    "\\\n",
    "\\\n",
    "\\\n",
    "b) Use Python to plot the solution"
   ]
  },
  {
   "cell_type": "markdown",
   "id": "b2ca7c71",
   "metadata": {},
   "source": [
    "__Q2__\n",
    "\n",
    "The spherically symmetric form of the wave equation is \n",
    "\n",
    "$$\n",
    "\\frac{1}{c^2}\\frac{\\partial^2 u}{\\partial t^2} = \\frac{\\partial^2 u}{\\partial r^2}+\\frac{2}{r}\\frac{\\partial u}{\\partial r}\n",
    "$$\n",
    "\n",
    "show by writing $v=ru$ that this has solutions of the form\n",
    "\n",
    "$$\n",
    "ru(r,t) = f(ct-r) + g(ct+r)\n",
    "$$\n",
    "\n",
    "and give a physical interpretation of these solutions."
   ]
  },
  {
   "cell_type": "code",
   "execution_count": null,
   "id": "97b0e774",
   "metadata": {},
   "outputs": [],
   "source": []
  }
 ],
 "metadata": {
  "kernelspec": {
   "display_name": "Python 3 (ipykernel)",
   "language": "python",
   "name": "python3"
  },
  "language_info": {
   "codemirror_mode": {
    "name": "ipython",
    "version": 3
   },
   "file_extension": ".py",
   "mimetype": "text/x-python",
   "name": "python",
   "nbconvert_exporter": "python",
   "pygments_lexer": "ipython3",
   "version": "3.9.13"
  }
 },
 "nbformat": 4,
 "nbformat_minor": 5
}
