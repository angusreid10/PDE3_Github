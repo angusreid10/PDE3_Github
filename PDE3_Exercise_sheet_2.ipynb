{
 "cells": [
  {
   "cell_type": "markdown",
   "id": "7bc73a52",
   "metadata": {},
   "source": [
    "### Partial Differential Equations 3: Exercise sheet 2\n",
    "\n",
    "These practice questions are similar to the exercises in the textbook and in Schaum's outlines Partial Differential Equations. If you are having difficulties with these questions practice using the remaining questions from these exercise. You will get the best from this tutorial by working though these examples __before__ the tutorial.\n",
    "\\\n",
    "\\\n",
    "__Q1__\n",
    "(From exercise 9.5.2 of Advanced Modern Engineering Mathematics)\n",
    "\n",
    "Consider the Laplace equation\n",
    "\n",
    "\\begin{align}\n",
    "0 = \\nabla^2 u = \\frac{\\partial^2 u(x,y)}{\\partial x^2} + \\frac{\\partial^2 u(x,y)}{\\partial y^2} \n",
    "\\end{align}\n",
    "\n",
    "in the region $0\\le x\\le1$ and $y\\ge0$ with the following boundary conditions\n",
    "\n",
    "\\begin{align}\n",
    "u(0, y) &= 0, \\quad y\\ge0 & (1) \\\\\n",
    "u(1, y) &= 0, \\quad y\\ge0 & (2) \\\\\n",
    "u(x, y\\to\\infty) &\\to 0, \\quad 0\\le x\\le1 & (3) \\\\\n",
    "u(x, 0) &= \\sin^5(\\pi x), \\quad 0\\le x\\le1 & (4)\n",
    "\\end{align}\n",
    "\n",
    "You might want to use the identity\n",
    "\n",
    "$$\n",
    "\\sin^5\\theta = \\frac{1}{16}\\left(\\sin 5\\theta - 5 \\sin 3\\theta + 10 \\sin\\theta \\right)\n",
    "$$\n",
    "\n",
    "Use the method of separated solutions to solve the Laplace equation with the given boundary conditions.\n",
    "\\\n",
    "\\\n",
    "b) Use Python to plot the solution."
   ]
  },
  {
   "cell_type": "code",
   "execution_count": null,
   "id": "309a8a75",
   "metadata": {},
   "outputs": [],
   "source": []
  }
 ],
 "metadata": {
  "kernelspec": {
   "display_name": "Python 3 (ipykernel)",
   "language": "python",
   "name": "python3"
  },
  "language_info": {
   "codemirror_mode": {
    "name": "ipython",
    "version": 3
   },
   "file_extension": ".py",
   "mimetype": "text/x-python",
   "name": "python",
   "nbconvert_exporter": "python",
   "pygments_lexer": "ipython3",
   "version": "3.9.13"
  }
 },
 "nbformat": 4,
 "nbformat_minor": 5
}
