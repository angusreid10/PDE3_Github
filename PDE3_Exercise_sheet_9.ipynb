{
 "cells": [
  {
   "cell_type": "markdown",
   "id": "bcc0cf32",
   "metadata": {},
   "source": [
    "### Partial Differential Equations 3: Exercise sheet 9\n",
    "\n",
    "The practice questions are similar to the exercises in the textbook and in Schaum's outlines Partial Differential Equations. If you are having difficulties with these questions practice using the remaining questions from these exercise. You will get the best from this tutorial by working though these examples __before__ the tutorial.\n",
    "\\\n",
    "\\\n",
    "\\\n",
    "__Q1__\n",
    "\n",
    "a) Find the separated solution of the wave equation,\n",
    "\n",
    "\\begin{align}\n",
    "\\frac{1}{c^2}\\frac{\\partial^2u}{\\partial t^2} = \\frac{\\partial^2u}{\\partial x^2} && (1)\n",
    "\\end{align}\n",
    "\n",
    "that satisfies the boundary and initial conditions\n",
    "\n",
    "\\begin{align}\n",
    "u(0,t) &= 0, &t>0, \\qquad & (2) \\\\\n",
    "u(\\pi,t) &= 0, &t>0,\\qquad  & (3) \\\\\n",
    "u(x,0) &= x^2, & 0\\le x\\le \\pi, \\qquad & (4) \\\\\n",
    "\\frac{\\partial u(x,0)}{\\partial t} &= 0, & 0\\le x\\le \\pi. \\qquad  & (5)\n",
    "\\end{align}\n",
    "\\\n",
    "\\\n",
    "\\\n",
    "b) Use Python to plot the solution."
   ]
  },
  {
   "cell_type": "markdown",
   "id": "9f40a742",
   "metadata": {},
   "source": [
    "__Q2__\n",
    "\n",
    "Problem from Schaum's Chapter 8, p. 224\n",
    "\n",
    "a) An infinitely long string having one end at $x=0$ is initially at rest on the $x$ axis. The end $x=0$ undergoes a periodic transverse displacement given by $A_0 \\sin(\\omega t)$ for $t>0$. Find the displacement of any point on the string at any time.\n",
    "\\\n",
    "\\\n",
    "\\\n",
    "b) Use Python to plot the solution."
   ]
  },
  {
   "cell_type": "code",
   "execution_count": null,
   "id": "eb139239",
   "metadata": {},
   "outputs": [],
   "source": []
  }
 ],
 "metadata": {
  "kernelspec": {
   "display_name": "Python 3 (ipykernel)",
   "language": "python",
   "name": "python3"
  },
  "language_info": {
   "codemirror_mode": {
    "name": "ipython",
    "version": 3
   },
   "file_extension": ".py",
   "mimetype": "text/x-python",
   "name": "python",
   "nbconvert_exporter": "python",
   "pygments_lexer": "ipython3",
   "version": "3.9.13"
  }
 },
 "nbformat": 4,
 "nbformat_minor": 5
}
