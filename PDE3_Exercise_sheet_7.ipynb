{
 "cells": [
  {
   "cell_type": "markdown",
   "id": "1d355253",
   "metadata": {},
   "source": [
    "### Partial Differential Equations 3: Exercise sheet 7\n",
    "\n",
    "The practice questions are similar to the exercises in the textbook and in Schaum's outlines Partial Differential Equations. If you are having difficulties with these questions practice using the remaining questions from these exercise. You will get the best from this seminar by working though these examples __before__ the tutorial.\n",
    "\n",
    "__Q1__ (From exercise 9.4.3 of Advanced Modern Engineering Mathematics)\n",
    "\n",
    "Consider the spherically symmetric form of the heat conduction equation\n",
    "\\begin{align}\n",
    "\\frac{\\partial^2 u}{\\partial r^2} + \\frac{2}{r}\\frac{\\partial u}{\\partial r} = \\frac1\\kappa\\frac{\\partial u}{\\partial t} && (1)\n",
    "\\end{align}\n",
    "\n",
    "a) Define $v(r,t) = r u(r,t)$ and show that $v$ satisfies the standard one-dimensional heat conduction equation. What can we expect of a solution as $r\\to\\infty$?\n",
    "\\\n",
    "\\\n",
    "\\\n",
    "b) Solve the equation in the annulus $a\\le r\\le b$ subject to the boundary conditions\n",
    "\n",
    "\\begin{align}\n",
    "u(a,t) &= T_0, \\quad & t>0 \\\\\n",
    "u(b,t) &= 0, \\quad & t>0 \\\\\n",
    "u(r,0) &= 0, & a\\le r\\le b\n",
    "\\end{align}\n",
    "\n",
    "Show that the solution has the form\n",
    "\n",
    "$$\n",
    "T(r,t) = \\frac{a T_0}{r} \\left[\\frac{b-r}{b-a} - \\sum_{N=1}^\\infty A_N e^{-\\kappa\\lambda^2 t} \\sin\\left(\\frac{r-a}{b-a}N\\pi\\right) \\right]\n",
    "$$\n",
    "\n",
    "where $\\lambda(b-a)=N\\pi$. Evaluate the Fourier coefficients $A_N$.\n",
    "\\\n",
    "\\\n",
    "\\\n",
    "c) Use Python to plot the solution."
   ]
  },
  {
   "cell_type": "code",
   "execution_count": null,
   "id": "2a558009",
   "metadata": {},
   "outputs": [],
   "source": []
  }
 ],
 "metadata": {
  "kernelspec": {
   "display_name": "Python 3 (ipykernel)",
   "language": "python",
   "name": "python3"
  },
  "language_info": {
   "codemirror_mode": {
    "name": "ipython",
    "version": 3
   },
   "file_extension": ".py",
   "mimetype": "text/x-python",
   "name": "python",
   "nbconvert_exporter": "python",
   "pygments_lexer": "ipython3",
   "version": "3.9.13"
  }
 },
 "nbformat": 4,
 "nbformat_minor": 5
}
